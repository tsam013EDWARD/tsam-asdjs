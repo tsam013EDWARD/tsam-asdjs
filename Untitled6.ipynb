{
 "metadata": {
  "name": ""
 },
 "nbformat": 3,
 "nbformat_minor": 0,
 "worksheets": [
  {
   "cells": [
    {
     "cell_type": "markdown",
     "metadata": {},
     "source": [
      "# dato unarray di interi, restituire la loro somma fino a che non viene ritrovato un valore negativo\n"
     ]
    },
    {
     "cell_type": "code",
     "collapsed": false,
     "input": [
      "function uno(v){\n",
      "    s=0;\n",
      "    i=0;\n",
      "    while(v[i]>0){\n",
      "    s=s+v[i];\n",
      "    i++    \n",
      "    }\n",
      "    return s;\n",
      "}"
     ],
     "language": "python",
     "metadata": {},
     "outputs": [
      {
       "metadata": {},
       "output_type": "pyout",
       "prompt_number": 126,
       "text": [
        "undefined"
       ]
      }
     ],
     "prompt_number": 126
    },
    {
     "cell_type": "markdown",
     "metadata": {},
     "source": [
      "#dato un numero n, restituire la somma dei primi n numeri interi positivi dispari\n"
     ]
    },
    {
     "cell_type": "code",
     "collapsed": false,
     "input": [
      "function due(n){\n",
      "    s=0;\n",
      "    for(i=1; i<=n; i++){\n",
      "        s=s+((i*2)-1);\n",
      "    }\n",
      "    return s;\n",
      "}"
     ],
     "language": "python",
     "metadata": {},
     "outputs": [
      {
       "metadata": {},
       "output_type": "pyout",
       "prompt_number": 124,
       "text": [
        "undefined"
       ]
      }
     ],
     "prompt_number": 124
    },
    {
     "cell_type": "code",
     "collapsed": false,
     "input": [
      "due(4);\n"
     ],
     "language": "python",
     "metadata": {},
     "outputs": [
      {
       "metadata": {},
       "output_type": "pyout",
       "prompt_number": 125,
       "text": [
        "16"
       ]
      }
     ],
     "prompt_number": 125
    },
    {
     "cell_type": "markdown",
     "metadata": {},
     "source": [
      "#dato un array di 10 elementi, calcolarne la media"
     ]
    },
    {
     "cell_type": "code",
     "collapsed": false,
     "input": [
      "function summ(v){\n",
      "    n=0;\n",
      "    for (i=0;i<v.length;++i){\n",
      "        n=n+v[i];\n",
      "    }\n",
      "\n",
      "    return n;\n",
      "}"
     ],
     "language": "python",
     "metadata": {},
     "outputs": [
      {
       "metadata": {},
       "output_type": "pyout",
       "prompt_number": 7,
       "text": [
        "undefined"
       ]
      }
     ],
     "prompt_number": 7
    },
    {
     "cell_type": "code",
     "collapsed": false,
     "input": [
      "function tre(v){\n",
      "        s=summ(v);\n",
      "    return med=s/v.length;\n",
      "}\n"
     ],
     "language": "python",
     "metadata": {},
     "outputs": [
      {
       "metadata": {},
       "output_type": "pyout",
       "prompt_number": 8,
       "text": [
        "undefined"
       ]
      }
     ],
     "prompt_number": 8
    },
    {
     "cell_type": "code",
     "collapsed": false,
     "input": [
      "v=[2,3,4,5,6,7,8,9,11,1];"
     ],
     "language": "python",
     "metadata": {},
     "outputs": [
      {
       "metadata": {},
       "output_type": "pyout",
       "prompt_number": 9,
       "text": [
        "[ 2, 3, 4, 5, 6, 7, 8, 9, 11, 1 ]"
       ]
      }
     ],
     "prompt_number": 9
    },
    {
     "cell_type": "code",
     "collapsed": false,
     "input": [
      "tre(v);\n"
     ],
     "language": "python",
     "metadata": {},
     "outputs": [
      {
       "metadata": {},
       "output_type": "pyout",
       "prompt_number": 10,
       "text": [
        "5.6"
       ]
      }
     ],
     "prompt_number": 10
    },
    {
     "cell_type": "markdown",
     "metadata": {},
     "source": [
      "#dato un intervallo[a,b] con a e b due interi positivi,\n",
      "#restituire la somma di tutti i numeri compresi all'interno dell'intervallo,estermi esclusi. \n",
      "#Nel caso che b fosse minore di a, calcolare la somma nell'intervallo[b,a]."
     ]
    },
    {
     "cell_type": "code",
     "collapsed": false,
     "input": [
      "function swap(i,j) {\n",
      "   t = i;\n",
      "   i = j;\n",
      "   j = t;\n",
      "}"
     ],
     "language": "python",
     "metadata": {},
     "outputs": [
      {
       "metadata": {},
       "output_type": "pyout",
       "prompt_number": 13,
       "text": [
        "undefined"
       ]
      }
     ],
     "prompt_number": 13
    },
    {
     "cell_type": "code",
     "collapsed": false,
     "input": [
      "function suminterval(a,b){\n",
      "    if( a>b){\n",
      "        t=a;\n",
      "        a=b;\n",
      "        b=t;\n",
      "    }  \n",
      "    t=0;    \n",
      "    for(i=a; i<=b; i++){\n",
      "        t=t+i;\n",
      "    }\n",
      "    return t;\n",
      "}"
     ],
     "language": "python",
     "metadata": {},
     "outputs": [
      {
       "metadata": {},
       "output_type": "pyout",
       "prompt_number": 108,
       "text": [
        "undefined"
       ]
      }
     ],
     "prompt_number": 108
    },
    {
     "cell_type": "code",
     "collapsed": false,
     "input": [
      "suminterval(3,5);"
     ],
     "language": "python",
     "metadata": {},
     "outputs": [
      {
       "metadata": {},
       "output_type": "pyout",
       "prompt_number": 109,
       "text": [
        "12"
       ]
      }
     ],
     "prompt_number": 109
    },
    {
     "cell_type": "markdown",
     "metadata": {},
     "source": [
      "# si calcoli il prodotto di a, b maggiori o uguali a 0, tramite l'utilizzo del solo operatore somma."
     ]
    },
    {
     "cell_type": "code",
     "collapsed": false,
     "input": [
      "function mult(a,b){\n",
      "    s=a;\n",
      "    for (i=1; i<b; i++){\n",
      "        s=s+a;\n",
      "    }\n",
      "    return s;\n",
      "}\n",
      "        "
     ],
     "language": "python",
     "metadata": {},
     "outputs": [
      {
       "metadata": {},
       "output_type": "pyout",
       "prompt_number": 130,
       "text": [
        "undefined"
       ]
      }
     ],
     "prompt_number": 130
    },
    {
     "cell_type": "code",
     "collapsed": false,
     "input": [
      "mult(2,3);\n"
     ],
     "language": "python",
     "metadata": {},
     "outputs": [
      {
       "metadata": {},
       "output_type": "pyout",
       "prompt_number": 131,
       "text": [
        "6"
       ]
      }
     ],
     "prompt_number": 131
    },
    {
     "cell_type": "markdown",
     "metadata": {},
     "source": [
      "# si calcoli la divisione e il resto della divisione tra due numeri a,b maggiori a 0, tramite l'utilizzo dei soli operatori somma e sottrazione."
     ]
    },
    {
     "cell_type": "code",
     "collapsed": false,
     "input": [
      "function div(a,b){\n",
      "    s=b;\n",
      "    for(i=0;a>=s; i++){\n",
      "        s=s+b;\n",
      "    }\n",
      "    return i +' resto '+(a-(s-b));\n",
      "}\n",
      "        "
     ],
     "language": "python",
     "metadata": {},
     "outputs": [
      {
       "metadata": {},
       "output_type": "pyout",
       "prompt_number": 132,
       "text": [
        "undefined"
       ]
      }
     ],
     "prompt_number": 132
    },
    {
     "cell_type": "code",
     "collapsed": false,
     "input": [
      "div(5,3);"
     ],
     "language": "python",
     "metadata": {},
     "outputs": [
      {
       "metadata": {},
       "output_type": "pyout",
       "prompt_number": 133,
       "text": [
        "'1 resto 2'"
       ]
      }
     ],
     "prompt_number": 133
    },
    {
     "cell_type": "markdown",
     "metadata": {},
     "source": [
      "# si calcoli la potenza (x^y) di due numeri x, y maggiori o uguali a zero, tramite i soli operatori somma, sottrazione e della funzione mult"
     ]
    },
    {
     "cell_type": "code",
     "collapsed": false,
     "input": [
      "function powa(a,b){\n",
      "    if (b == 0){\n",
      "        return 1;}\n",
      "    else(b == 1){\n",
      "        return a;} \n",
      "    for (i = 1, pa = a, res = 1, k = b; k; k /= 2)\n",
      "        {\n",
      "        c = k % 2; if (c)\n",
      "        res *= pa;\n",
      "        pa *= pa;\n",
      "        }\n",
      "        return res;\n",
      "}\n",
      "    // val=1;\n",
      "    //for(i=0; i<b; i++){\n",
      "    //    val=mult(val,a);\n",
      "    //}\n",
      "//return val;\n",
      "/}\n",
      "    "
     ],
     "language": "python",
     "metadata": {},
     "outputs": [
      {
       "ename": "SyntaxError",
       "evalue": "Unexpected token {",
       "output_type": "pyerr",
       "traceback": [
        "SyntaxError: Unexpected token {",
        "    at run ([eval]:192:19)",
        "    at onMessage ([eval]:63:41)",
        "    at process.EventEmitter.emit (events.js:98:17)",
        "    at handleMessage (child_process.js:318:10)",
        "    at Pipe.channel.onread (child_process.js:345:11)"
       ]
      }
     ],
     "prompt_number": 137
    },
    {
     "cell_type": "code",
     "collapsed": false,
     "input": [
      "powa(2,3);"
     ],
     "language": "python",
     "metadata": {},
     "outputs": [
      {
       "metadata": {},
       "output_type": "pyout",
       "prompt_number": 138,
       "text": [
        "0"
       ]
      }
     ],
     "prompt_number": 138
    },
    {
     "cell_type": "markdown",
     "metadata": {},
     "source": [
      "#esercizio 11"
     ]
    },
    {
     "cell_type": "code",
     "collapsed": false,
     "input": [
      "function converti(a){\n",
      "    vp=[];\n",
      "    cp=0;\n",
      "    vd=[];\n",
      "    cd=0;\n",
      "    for(i=0; i<a.length; i++){\n",
      "        if(a(i)%2==0){\n",
      "            vp[cp]=a[i];\n",
      "            cp++;\n",
      "        }else{\n",
      "            vd[cd]=a[i];\n",
      "            cd++;\n",
      "        }\n",
      "    }return vd.c(a);\n",
      "}\n",
      "    \n",
      "    "
     ],
     "language": "python",
     "metadata": {},
     "outputs": [
      {
       "metadata": {},
       "output_type": "pyout",
       "prompt_number": 116,
       "text": [
        "undefined"
       ]
      }
     ],
     "prompt_number": 116
    },
    {
     "cell_type": "markdown",
     "metadata": {},
     "source": [
      "# esercizio 8"
     ]
    },
    {
     "cell_type": "code",
     "collapsed": false,
     "input": [
      "function matrice(v){\n",
      "    a=[];\n",
      "    cont=0;\n",
      "    for (x=0; x<v; x++){\n",
      "        a[x]=[];\n",
      "        for(y=0; y<v;y++){\n",
      "            a[x][y]=cont;\n",
      "        cont++;\n",
      "    }}\n",
      "    return a;\n",
      "}\n",
      "                             "
     ],
     "language": "python",
     "metadata": {},
     "outputs": [
      {
       "metadata": {},
       "output_type": "pyout",
       "prompt_number": 120,
       "text": [
        "undefined"
       ]
      }
     ],
     "prompt_number": 120
    },
    {
     "cell_type": "markdown",
     "metadata": {},
     "source": [
      "#esercizio 9\n"
     ]
    },
    {
     "cell_type": "code",
     "collapsed": false,
     "input": [
      "function inverti(v){\n",
      "    w=[];\n",
      "    for(i=0; i<v.length;i++){\n",
      "        w[i]=v[i];\n",
      "    }\n",
      "    q=(v.length-1);\n",
      "    for (j=0;j<v.length; j++){\n",
      "        v[j]=temp[q]\n",
      "        q-=1;\n",
      "    }\n",
      "    return v;\n",
      "}"
     ],
     "language": "python",
     "metadata": {},
     "outputs": [
      {
       "metadata": {},
       "output_type": "pyout",
       "prompt_number": 118,
       "text": [
        "undefined"
       ]
      }
     ],
     "prompt_number": 118
    },
    {
     "cell_type": "markdown",
     "metadata": {},
     "source": [
      "#es 10\n"
     ]
    },
    {
     "cell_type": "code",
     "collapsed": false,
     "input": [
      "function replicate(a,b){\n",
      "    v=[];\n",
      "    for(i=0; i<b; i++){\n",
      "        v[i]=a;\n",
      "    }\n",
      "    return v;\n",
      "}"
     ],
     "language": "python",
     "metadata": {},
     "outputs": [
      {
       "metadata": {},
       "output_type": "pyout",
       "prompt_number": 128,
       "text": [
        "undefined"
       ]
      }
     ],
     "prompt_number": 128
    },
    {
     "cell_type": "code",
     "collapsed": false,
     "input": [
      "console.log(replicate(3,4));"
     ],
     "language": "python",
     "metadata": {},
     "outputs": [
      {
       "output_type": "stream",
       "stream": "stdout",
       "text": [
        "[ 3, 3, 3, 3 ]\n"
       ]
      },
      {
       "metadata": {},
       "output_type": "pyout",
       "prompt_number": 129,
       "text": [
        "undefined"
       ]
      }
     ],
     "prompt_number": 129
    },
    {
     "cell_type": "code",
     "collapsed": false,
     "input": [],
     "language": "python",
     "metadata": {},
     "outputs": []
    }
   ],
   "metadata": {}
  }
 ]
}